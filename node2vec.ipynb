{
  "cells": [
    {
      "cell_type": "markdown",
      "metadata": {
        "id": "PbAPLXyCTJcm"
      },
      "source": [
        "# Node2Vec"
      ]
    },
    {
      "cell_type": "code",
      "execution_count": 2,
      "metadata": {
        "colab": {
          "base_uri": "https://localhost:8080/"
        },
        "id": "VqDa2dpfTJcr",
        "outputId": "d3b5c404-10c5-4fc9-937f-c9bdfbd4dc9b"
      },
      "outputs": [
        {
          "name": "stdout",
          "output_type": "stream",
          "text": [
            "Requirement already satisfied: numpy in /usr/local/lib/python3.10/dist-packages (1.23.5)\n",
            "Requirement already satisfied: networkx in /usr/local/lib/python3.10/dist-packages (3.2.1)\n",
            "Requirement already satisfied: gensim in /usr/local/lib/python3.10/dist-packages (4.3.2)\n",
            "Requirement already satisfied: numpy>=1.18.5 in /usr/local/lib/python3.10/dist-packages (from gensim) (1.23.5)\n",
            "Requirement already satisfied: scipy>=1.7.0 in /usr/local/lib/python3.10/dist-packages (from gensim) (1.11.4)\n",
            "Requirement already satisfied: smart-open>=1.8.1 in /usr/local/lib/python3.10/dist-packages (from gensim) (6.4.0)\n",
            "Requirement already satisfied: pandas in /usr/local/lib/python3.10/dist-packages (1.5.3)\n",
            "Requirement already satisfied: python-dateutil>=2.8.1 in /usr/local/lib/python3.10/dist-packages (from pandas) (2.8.2)\n",
            "Requirement already satisfied: pytz>=2020.1 in /usr/local/lib/python3.10/dist-packages (from pandas) (2023.3.post1)\n",
            "Requirement already satisfied: numpy>=1.21.0 in /usr/local/lib/python3.10/dist-packages (from pandas) (1.23.5)\n",
            "Requirement already satisfied: six>=1.5 in /usr/local/lib/python3.10/dist-packages (from python-dateutil>=2.8.1->pandas) (1.16.0)\n",
            "Requirement already satisfied: matplotlib in /usr/local/lib/python3.10/dist-packages (3.7.1)\n",
            "Requirement already satisfied: contourpy>=1.0.1 in /usr/local/lib/python3.10/dist-packages (from matplotlib) (1.2.0)\n",
            "Requirement already satisfied: cycler>=0.10 in /usr/local/lib/python3.10/dist-packages (from matplotlib) (0.12.1)\n",
            "Requirement already satisfied: fonttools>=4.22.0 in /usr/local/lib/python3.10/dist-packages (from matplotlib) (4.46.0)\n",
            "Requirement already satisfied: kiwisolver>=1.0.1 in /usr/local/lib/python3.10/dist-packages (from matplotlib) (1.4.5)\n",
            "Requirement already satisfied: numpy>=1.20 in /usr/local/lib/python3.10/dist-packages (from matplotlib) (1.23.5)\n",
            "Requirement already satisfied: packaging>=20.0 in /usr/local/lib/python3.10/dist-packages (from matplotlib) (23.2)\n",
            "Requirement already satisfied: pillow>=6.2.0 in /usr/local/lib/python3.10/dist-packages (from matplotlib) (9.4.0)\n",
            "Requirement already satisfied: pyparsing>=2.3.1 in /usr/local/lib/python3.10/dist-packages (from matplotlib) (3.1.1)\n",
            "Requirement already satisfied: python-dateutil>=2.7 in /usr/local/lib/python3.10/dist-packages (from matplotlib) (2.8.2)\n",
            "Requirement already satisfied: six>=1.5 in /usr/local/lib/python3.10/dist-packages (from python-dateutil>=2.7->matplotlib) (1.16.0)\n",
            "Requirement already satisfied: scikit-learn in /usr/local/lib/python3.10/dist-packages (1.2.2)\n",
            "Requirement already satisfied: numpy>=1.17.3 in /usr/local/lib/python3.10/dist-packages (from scikit-learn) (1.23.5)\n",
            "Requirement already satisfied: scipy>=1.3.2 in /usr/local/lib/python3.10/dist-packages (from scikit-learn) (1.11.4)\n",
            "Requirement already satisfied: joblib>=1.1.1 in /usr/local/lib/python3.10/dist-packages (from scikit-learn) (1.3.2)\n",
            "Requirement already satisfied: threadpoolctl>=2.0.0 in /usr/local/lib/python3.10/dist-packages (from scikit-learn) (3.2.0)\n"
          ]
        }
      ],
      "source": [
        "!pip install numpy\n",
        "!pip install networkx\n",
        "!pip install gensim\n",
        "!pip install pandas\n",
        "!pip install matplotlib\n",
        "!pip install scikit-learn"
      ]
    },
    {
      "cell_type": "code",
      "execution_count": 17,
      "metadata": {
        "id": "YOOPEepNTJcv"
      },
      "outputs": [],
      "source": [
        "import pandas as pd\n",
        "import numpy as np\n",
        "import networkx as nx\n",
        "from gensim.models import Word2Vec\n",
        "\n",
        "from multiprocessing import cpu_count\n",
        "import random\n",
        "\n",
        "from gensim.models.keyedvectors import KeyedVectors\n",
        "\n",
        "from collections import defaultdict\n",
        "from scipy.sparse import coo_matrix\n",
        "from sklearn.utils import shuffle as skshuffle\n",
        "\n",
        "import networkx as nx\n",
        "import random\n",
        "from gensim.models import Word2Vec # Needed for Word2Vec\n",
        "\n",
        "import pandas as pd\n",
        "\n",
        "from sklearn.linear_model import LogisticRegression\n",
        "from sklearn.metrics import f1_score\n",
        "from sklearn.preprocessing import MultiLabelBinarizer\n",
        "from sklearn.model_selection import train_test_split\n",
        "from sklearn.multiclass import OneVsRestClassifier\n",
        "\n",
        "from torch_geometric.datasets import Planetoid\n",
        "from torch_geometric.datasets import CitationFull\n",
        "from torch_geometric.datasets import Reddit\n",
        "from torch_geometric.datasets import HeterophilousGraphDataset\n",
        "\n",
        "from torch_geometric.utils import to_networkx"
      ]
    },
    {
      "cell_type": "markdown",
      "metadata": {
        "id": "sTeRWUcNTJcv"
      },
      "source": [
        "### DATA AND HYPERPARAMETERS"
      ]
    },
    {
      "cell_type": "code",
      "execution_count": 18,
      "metadata": {
        "id": "HWfMZPTYTJcw"
      },
      "outputs": [],
      "source": [
        "DATA_FOLDER = '/Users/silviaarellanogarcia/Documents/MSc MACHINE LEARNING/Advanced Machine Learning/Project/Datasets/'\n",
        "NAME_DATASET = 'BlogCatalog-dataset'\n",
        "edges_path = DATA_FOLDER + NAME_DATASET + '/data/edges.csv'\n",
        "nodes_path = DATA_FOLDER + NAME_DATASET + '/data/nodes.csv'\n",
        "groups_path = DATA_FOLDER + NAME_DATASET + '/data/groups.csv'\n",
        "group_edges_path = DATA_FOLDER + NAME_DATASET + '/data/group-edges.csv'"
      ]
    },
    {
      "cell_type": "code",
      "execution_count": 19,
      "metadata": {
        "id": "r68l7TnpTJcw"
      },
      "outputs": [],
      "source": [
        "nodes_id = pd.read_csv(nodes_path, header=None, names=['id'])\n",
        "groups_id = pd.read_csv(groups_path, header=None, names=['group'])\n",
        "edges = pd.read_csv(edges_path, header=None, names=['id_1', 'id_2'])\n",
        "user_group_membership = pd.read_csv(group_edges_path, header=None, names=['id', 'group'])"
      ]
    },
    {
      "cell_type": "code",
      "execution_count": 20,
      "metadata": {
        "id": "iIQqPOvdTJcx"
      },
      "outputs": [],
      "source": [
        "# Create a graph\n",
        "G = nx.Graph()\n",
        "\n",
        "# Add nodes to the graph\n",
        "G.add_nodes_from(nodes_id['id'])\n",
        "\n",
        "# Add edges to the graph\n",
        "G.add_edges_from(edges[['id_1', 'id_2']].values)\n",
        "\n",
        "#Add weight\n",
        "for edge in G.edges():\n",
        "    G[edge[0]][edge[1]]['weight'] = 1\n",
        "\n",
        "alias_nodes = {}\n",
        "\n",
        "is_directed = False"
      ]
    },
    {
      "cell_type": "code",
      "execution_count": 21,
      "metadata": {},
      "outputs": [
        {
          "name": "stdout",
          "output_type": "stream",
          "text": [
            "Number of nodes: 10312\n",
            "Number of edges: 333983\n"
          ]
        }
      ],
      "source": [
        "# Create a dictionary to store groups for each ID\n",
        "group_dict = {}\n",
        "\n",
        "# Populate the group_dict\n",
        "for _, row in user_group_membership.iterrows():\n",
        "    user_id = row['id']\n",
        "    group_id = row['group']\n",
        "\n",
        "    # Check if the user_id is already in the dictionary\n",
        "    if user_id in group_dict:\n",
        "        group_dict[user_id].append(group_id)\n",
        "    else:\n",
        "        group_dict[user_id] = [group_id]\n",
        "\n",
        "# Add group labels to the nodes\n",
        "for user_id, groups in group_dict.items():\n",
        "    nx.set_node_attributes(G, {user_id: groups}, 'group_belonging')\n",
        "\n",
        "# Print basic graph information\n",
        "print(\"Number of nodes:\", G.number_of_nodes())\n",
        "print(\"Number of edges:\", G.number_of_edges())"
      ]
    },
    {
      "cell_type": "code",
      "execution_count": 22,
      "metadata": {
        "id": "JmWB1EBdTJcz"
      },
      "outputs": [],
      "source": [
        "def get_set_labels(G):\n",
        "    '''\n",
        "    Input:\n",
        "        G: Graph\n",
        "    Output:\n",
        "        labels: List of sets containing labels. Each set corresponds to the groups of id = index + 1\n",
        "    '''\n",
        "\n",
        "    labels = []\n",
        "\n",
        "    for n in G.nodes:\n",
        "        l = set(G.nodes[n].get('group_belonging', []))  # Ensure an empty list is converted to an empty set\n",
        "        labels.append(l)\n",
        "\n",
        "    return labels\n",
        "\n",
        "def get_array_labels(G):\n",
        "  '''\n",
        "  Input:\n",
        "    G: Graph\n",
        "  Output:\n",
        "    labels: Array with labels. Each position of the array will correspond to the groups of id = index + 1\n",
        "  '''\n",
        "\n",
        "  labels = []\n",
        "\n",
        "  for n in G.nodes:\n",
        "      l = G.nodes[n].get('group_belonging')\n",
        "      labels.append(l)\n",
        "  return labels"
      ]
    },
    {
      "cell_type": "code",
      "execution_count": 23,
      "metadata": {
        "id": "pzRTlU9STJc0"
      },
      "outputs": [],
      "source": [
        "# HYPERPARAMETERS\n",
        "window_size = 10\n",
        "embedding_size = 128\n",
        "walks_per_vertex = 10 ##10 --> Parameters suggested in Khosla \n",
        "walk_length = 80 ##80 --> Parameters suggested in Khosla\n",
        "\n",
        "p = 0.25 # Possibilities evaluated in Khosla: 0.25, 0.5, 1, 2, 4\n",
        "q = 4 # Possibilities evaluated in Khosla: 0.25, 0.5, 1, 2, 4"
      ]
    },
    {
      "cell_type": "markdown",
      "metadata": {
        "id": "3CWZKDNyTJc1"
      },
      "source": [
        "### NODE2VEC IMPLEMENTATION"
      ]
    },
    {
      "cell_type": "code",
      "execution_count": 24,
      "metadata": {
        "id": "lao8PXueTJc1"
      },
      "outputs": [],
      "source": [
        "# Effective Discrete Sampling. Idea from: https://lips.cs.princeton.edu/the-alias-method-efficient-sampling-with-many-discrete-outcomes/\n",
        "def alias_setup(probs):\n",
        "    '''\n",
        "    Input:\n",
        "        probs: array containing the probabilities of different outvomes\n",
        "    Output:\n",
        "        J: indices that represent the outcome\n",
        "        q: probabilities after being sampled\n",
        "    '''\n",
        "    K = len(probs)\n",
        "    q = np.zeros(K)\n",
        "    J = np.zeros(K, dtype=np.int64)\n",
        "\n",
        "    smaller = [] # Probs smaller than 1/K\n",
        "    larger = [] # Probs bigger than 1/K\n",
        "\n",
        "    for kk, prob in enumerate(probs):\n",
        "        q[kk] = K*prob # Scaling the probability\n",
        "        if q[kk] < 1.0:\n",
        "            smaller.append(kk)\n",
        "        else:\n",
        "            larger.append(kk)\n",
        "\n",
        "    while len(smaller) > 0 and len(larger) > 0:\n",
        "        small = smaller.pop()\n",
        "        large = larger.pop()\n",
        "\n",
        "        J[small] = large\n",
        "        q[large] = q[large] + q[small] - 1.0\n",
        "\n",
        "        if q[large] < 1.0:\n",
        "            smaller.append(large)\n",
        "        else:\n",
        "            larger.append(large)\n",
        "\n",
        "    return J, q"
      ]
    },
    {
      "cell_type": "code",
      "execution_count": 25,
      "metadata": {
        "id": "ZqbaPMzTTJc2"
      },
      "outputs": [],
      "source": [
        "def alias_draw(J, q):\n",
        "    # Generates random samples from the given distribution.\n",
        "    '''\n",
        "    Inputs:\n",
        "        J: indices that represent the outcome\n",
        "        q: probabilities after being sampled\n",
        "    '''\n",
        "    K = len(J)\n",
        "\n",
        "    # Draw from the overall uniform mixture. --> Integer in the range [0, K]\n",
        "    kk = int(np.floor(np.random.rand() * K))\n",
        "\n",
        "    # Draw from the binary mixture, either keeping the small one, or choosing the associated larger one.\n",
        "    if np.random.rand() < q[kk]:\n",
        "        return kk\n",
        "    else:\n",
        "        return J[kk]"
      ]
    },
    {
      "cell_type": "code",
      "execution_count": 26,
      "metadata": {
        "id": "PVUusjJMTJc2"
      },
      "outputs": [],
      "source": [
        "# Method to compute the transition probabilities, according to section 3.2.2 of the Node2Vec paper\n",
        "def get_alias_edge(G, src, dst):\n",
        "    '''\n",
        "    Inputs:\n",
        "        G: Graph\n",
        "        src: Node where the edge starts, source\n",
        "        dst: Node where the edge finishes, destination\n",
        "    '''\n",
        "    unnormalized_probs = [] # We will set the probs according to section 3.2.2\n",
        "    for dst_nghbr in sorted(G.neighbors(dst)):\n",
        "        if dst_nghbr == src:\n",
        "            unnormalized_probs.append(G[dst][dst_nghbr]['weight']/p) # distance 0 --> prob 1/p (for not weighted)\n",
        "        elif G.has_edge(dst_nghbr, src):\n",
        "            unnormalized_probs.append(G[dst][dst_nghbr]['weight']) # distance 1 --> prob 1 (for not weighted)\n",
        "        else:\n",
        "            unnormalized_probs.append(G[dst][dst_nghbr]['weight']/q) # distance 2 --> prob 1/q (for not weighted)\n",
        "\n",
        "    normalizing_factor = sum(unnormalized_probs)\n",
        "    normalized_probs = [float(un_p)/normalizing_factor for un_p in unnormalized_probs]\n",
        "\n",
        "    return alias_setup(normalized_probs)"
      ]
    },
    {
      "cell_type": "code",
      "execution_count": 27,
      "metadata": {
        "id": "7rA52YThTJc3"
      },
      "outputs": [],
      "source": [
        "def preprocess_transition_probs(G, is_directed):\n",
        "    '''\n",
        "    Inputs:\n",
        "        G: graph\n",
        "        is_directed: indicates if the graph is direced or undirected\n",
        "    Ouputs:\n",
        "        alias_nodes: Dictionary where the keys are nodes in the graph, and the values are the corresponding alias tables for each node. \n",
        "        alias_edges: Dictionary where the keys are edges in the graph, and the values are the corresponding alias tables for each edge.\n",
        "    '''\n",
        "\n",
        "    alias_nodes = {}\n",
        "    for node in G.nodes():\n",
        "        unnormalized_probs = [G[node][nghbr]['weight'] for nghbr in sorted(G.neighbors(node))] # Get the transition probabilities from a node to its neighbours\n",
        "        norm_const = sum(unnormalized_probs) # Compute the normalization constant\n",
        "        normalized_probs =  [float(u_prob)/norm_const for u_prob in unnormalized_probs] # Compute the normalized probs\n",
        "        alias_nodes[node] = alias_setup(normalized_probs) # Compute the alias table for the node, and store it in the dictionary.\n",
        "\n",
        "    alias_edges = {}\n",
        "\n",
        "    print(\"First part finished\")\n",
        "\n",
        "    if is_directed:\n",
        "        for edge in G.edges():\n",
        "            alias_edges[edge] = get_alias_edge(G, edge[0], edge[1]) # Compute the alias table for the given edges\n",
        "    else: # In undirected graphs, the edge (node_1, node_2) is the same as the (node_2, node_1)\n",
        "        for edge in G.edges():\n",
        "            alias_edges[edge] = get_alias_edge(G, edge[0], edge[1])\n",
        "            alias_edges[(edge[1], edge[0])] = get_alias_edge(G, edge[1], edge[0]) # Compute and store the alias table for the reverse direction.\n",
        "\n",
        "    return alias_nodes, alias_edges"
      ]
    },
    {
      "cell_type": "code",
      "execution_count": 28,
      "metadata": {
        "id": "IJ2fT1DITJc3"
      },
      "outputs": [],
      "source": [
        "def node2vec_walk(G, alias_nodes, alias_edges, walk_length, start_node):\n",
        "    '''\n",
        "    Compute the randdom walk given the first node\n",
        "    Input:\n",
        "        G: graph\n",
        "        alias_nodes: alias tables for nodes\n",
        "        alias_edges: alias tables for edges\n",
        "        walk_length: number of steps in the walk\n",
        "        start_node: first node of the walk\n",
        "    Output:\n",
        "        walk: a list containing the nodes visited\n",
        "    '''\n",
        "\n",
        "    walk = [start_node]\n",
        "\n",
        "    while len(walk) < walk_length:\n",
        "        current_node = walk[-1] # Get the last node visited\n",
        "        current_nbrs = sorted(G.neighbors(current_node)) # Get the neighbours of the current node\n",
        "\n",
        "        if len(current_nbrs) > 0: # Check if the node has neighbours\n",
        "            if len(walk) == 1: # First node of the walk\n",
        "                walk.append(current_nbrs[alias_draw(alias_nodes[current_node][0], alias_nodes[current_node][1])]) # Get the next node to visit\n",
        "            else:\n",
        "                prev = walk[-2]\n",
        "                next = current_nbrs[alias_draw(alias_edges[(prev, current_node)][0], alias_edges[(prev, current_node)][1])] # Sample the next node\n",
        "                walk.append(next)\n",
        "        else: # If the current node has no neighbours, the walk is over\n",
        "            break\n",
        "\n",
        "    return walk"
      ]
    },
    {
      "cell_type": "code",
      "execution_count": 29,
      "metadata": {
        "id": "XGHgcWxVTJc4"
      },
      "outputs": [],
      "source": [
        "def simulate_walks(G, alias_nodes, alias_edges, num_walks, walk_length):\n",
        "    '''\n",
        "    Generate all the necessary walks\n",
        "    \n",
        "    Inputs:\n",
        "        G: graph\n",
        "        alias_nodes: alias tables for nodes\n",
        "        alias_edges: alias tables for edges\n",
        "        num_walks: number of walks that start from the same vertex\n",
        "        walk_length: number of steps in the walk\n",
        "    '''\n",
        "    random.seed(1)\n",
        "    np.random.seed(1)\n",
        "    walks = []\n",
        "    nodes = list(G.nodes())\n",
        "    print('Walk iteration:')\n",
        "    for walk_iter in range(num_walks):\n",
        "        print(str(walk_iter+1), '/', str(num_walks))\n",
        "        random.shuffle(nodes)\n",
        "        for node in nodes:\n",
        "            walks.append(node2vec_walk(G, alias_nodes, alias_edges, walk_length=walk_length, start_node=node))\n",
        "\n",
        "    return walks"
      ]
    },
    {
      "cell_type": "code",
      "execution_count": 30,
      "metadata": {
        "id": "XsV3D0Kvt441"
      },
      "outputs": [],
      "source": [
        "# Optimization\n",
        "def learn_embeddings(walks):\n",
        "    walks = [list(map(str, walk)) for walk in walks]\n",
        "    model = Word2Vec(walks,\n",
        "                     vector_size=embedding_size,\n",
        "                     window=window_size,\n",
        "                     min_count=0,\n",
        "                     sg=1,\n",
        "                     workers=cpu_count(),\n",
        "                     epochs=1) # Number of iterations in the SGD. In the paper they do 1.\n",
        "\n",
        "    return model"
      ]
    },
    {
      "cell_type": "code",
      "execution_count": 31,
      "metadata": {
        "colab": {
          "base_uri": "https://localhost:8080/"
        },
        "id": "Gtdf8rYuTJc5",
        "outputId": "e4641f7b-547d-4fe0-f853-163d1a49c344"
      },
      "outputs": [
        {
          "name": "stdout",
          "output_type": "stream",
          "text": [
            "First part finished\n",
            "Walk iteration:\n",
            "1 / 10\n",
            "2 / 10\n",
            "3 / 10\n",
            "4 / 10\n",
            "5 / 10\n",
            "6 / 10\n",
            "7 / 10\n",
            "8 / 10\n",
            "9 / 10\n",
            "10 / 10\n"
          ]
        }
      ],
      "source": [
        "alias_nodes, alias_edges = preprocess_transition_probs(G, is_directed)\n",
        "walks = simulate_walks(G, alias_nodes, alias_edges, walks_per_vertex, walk_length)\n",
        "phi = learn_embeddings(walks)"
      ]
    },
    {
      "cell_type": "code",
      "execution_count": 32,
      "metadata": {
        "id": "rCREOVynTJc6"
      },
      "outputs": [],
      "source": [
        "# Get the embedding vectors\n",
        "phi_vectors = phi.wv.vectors"
      ]
    },
    {
      "cell_type": "code",
      "execution_count": 33,
      "metadata": {
        "id": "koifk6h5dd25"
      },
      "outputs": [],
      "source": [
        "# SAVE the model in Word2Vec format\n",
        "phi.wv.save_word2vec_format('/Users/silviaarellanogarcia/Documents/MSc MACHINE LEARNING/Advanced Machine Learning/Project/embeddings_node2vec/blogcatalog.embedding')"
      ]
    },
    {
      "cell_type": "code",
      "execution_count": 85,
      "metadata": {
        "id": "iiit2F47TJc8"
      },
      "outputs": [],
      "source": [
        "# LOAD the model in Word2Vec format\n",
        "phi = KeyedVectors.load_word2vec_format('/Users/silviaarellanogarcia/Documents/MSc MACHINE LEARNING/Advanced Machine Learning/Project/embeddings_node2vec/blogcatalog.embedding')"
      ]
    },
    {
      "cell_type": "code",
      "execution_count": 41,
      "metadata": {
        "colab": {
          "base_uri": "https://localhost:8080/"
        },
        "id": "7aDlKy0CTJc9",
        "outputId": "b8ecc909-3aa9-4d52-ef91-aef555ddd624"
      },
      "outputs": [
        {
          "name": "stdout",
          "output_type": "stream",
          "text": [
            "[[ 0.12204421 -0.11647057  0.26194656 ... -0.00428664 -0.16073275\n",
            "  -0.055148  ]\n",
            " [ 0.07751068  0.0205436   0.05751998 ... -0.07587191 -0.12947647\n",
            "  -0.09578805]\n",
            " [ 0.11857373 -0.0989447   0.15763068 ...  0.02885029  0.27141353\n",
            "   0.09615699]\n",
            " ...\n",
            " [-0.04881622 -0.0916038   0.11737502 ... -0.25610986  0.01920853\n",
            "   0.24216694]\n",
            " [ 0.28862426 -0.25290966  0.20937659 ... -0.04427637  0.16115342\n",
            "  -0.05660533]\n",
            " [ 0.25468144 -0.34269187  0.00873971 ... -0.16506337 -0.02325846\n",
            "   0.20982495]]\n"
          ]
        }
      ],
      "source": [
        "# Check the LOADED embedding vectors\n",
        "phi_vectors = phi.vectors\n",
        "print(phi_vectors)"
      ]
    },
    {
      "cell_type": "markdown",
      "metadata": {
        "id": "0vyPg6c0TJdB"
      },
      "source": [
        "### NODE CLASSIFIER"
      ]
    },
    {
      "cell_type": "code",
      "execution_count": 36,
      "metadata": {
        "id": "NV0wgfQwTJdD"
      },
      "outputs": [],
      "source": [
        "class TopKRanker(OneVsRestClassifier):\n",
        "    def predict(self, X, top_k_list):\n",
        "        assert X.shape[0] == len(top_k_list)\n",
        "        probs = np.asarray(super(TopKRanker, self).predict_proba(X))\n",
        "        all_labels = []\n",
        "        for i, k in enumerate(top_k_list):\n",
        "            probs_ = probs[i, :]\n",
        "            labels = self.classes_[probs_.argsort()[-k:]].tolist()\n",
        "            all_labels.append(labels)\n",
        "        return all_labels"
      ]
    },
    {
      "cell_type": "code",
      "execution_count": 37,
      "metadata": {
        "id": "iMCU5AEBTJdE"
      },
      "outputs": [],
      "source": [
        "# To improve the access to the adjacency matrix, we pass the info to a dictionary, where all the nodes have a entry, and the values aare the neighbours\n",
        "def adj_dictionary(x):\n",
        "    G = defaultdict(lambda: set())\n",
        "    cx = x.tocoo() # Return a COOrdinate representation of this matrix\n",
        "    for i,j,v in zip(cx.row, cx.col, cx.data):\n",
        "        G[i].add(j)\n",
        "    return {str(k): [str(x) for x in v] for k, v in G.items()}"
      ]
    },
    {
      "cell_type": "markdown",
      "metadata": {},
      "source": [
        "ATTENTION!\n",
        "In the following method, some lines need to be commented depending on:\n",
        "- The type of dataset that is being used\n",
        "- The index of the first node\n",
        "- If the embedding has been loaded or generated"
      ]
    },
    {
      "cell_type": "code",
      "execution_count": 43,
      "metadata": {
        "colab": {
          "base_uri": "https://localhost:8080/"
        },
        "id": "cQrvCxCeTJdF",
        "outputId": "de251d3d-4c17-4bce-e27f-5cf9773884cd"
      },
      "outputs": [
        {
          "name": "stderr",
          "output_type": "stream",
          "text": [
            "/Users/silviaarellanogarcia/Documents/MSc MACHINE LEARNING/Advanced Machine Learning/Project/Node2vec/.venv/lib/python3.11/site-packages/sklearn/preprocessing/_label.py:900: UserWarning: unknown class(es) [0] will be ignored\n",
            "  warnings.warn(\n",
            "/Users/silviaarellanogarcia/Documents/MSc MACHINE LEARNING/Advanced Machine Learning/Project/Node2vec/.venv/lib/python3.11/site-packages/sklearn/preprocessing/_label.py:900: UserWarning: unknown class(es) [0] will be ignored\n",
            "  warnings.warn(\n",
            "/Users/silviaarellanogarcia/Documents/MSc MACHINE LEARNING/Advanced Machine Learning/Project/Node2vec/.venv/lib/python3.11/site-packages/sklearn/metrics/_classification.py:1760: UndefinedMetricWarning: F-score is ill-defined and being set to 0.0 in labels with no true nor predicted samples. Use `zero_division` parameter to control this behavior.\n",
            "  _warn_prf(average, \"true nor predicted\", \"F-score is\", len(true_sum))\n",
            "/Users/silviaarellanogarcia/Documents/MSc MACHINE LEARNING/Advanced Machine Learning/Project/Node2vec/.venv/lib/python3.11/site-packages/sklearn/multiclass.py:84: UserWarning: Label not 38 is present in all training examples.\n",
            "  warnings.warn(\n",
            "/Users/silviaarellanogarcia/Documents/MSc MACHINE LEARNING/Advanced Machine Learning/Project/Node2vec/.venv/lib/python3.11/site-packages/sklearn/preprocessing/_label.py:900: UserWarning: unknown class(es) [0] will be ignored\n",
            "  warnings.warn(\n",
            "/Users/silviaarellanogarcia/Documents/MSc MACHINE LEARNING/Advanced Machine Learning/Project/Node2vec/.venv/lib/python3.11/site-packages/sklearn/preprocessing/_label.py:900: UserWarning: unknown class(es) [0] will be ignored\n",
            "  warnings.warn(\n",
            "/Users/silviaarellanogarcia/Documents/MSc MACHINE LEARNING/Advanced Machine Learning/Project/Node2vec/.venv/lib/python3.11/site-packages/sklearn/metrics/_classification.py:1760: UndefinedMetricWarning: F-score is ill-defined and being set to 0.0 in labels with no true nor predicted samples. Use `zero_division` parameter to control this behavior.\n",
            "  _warn_prf(average, \"true nor predicted\", \"F-score is\", len(true_sum))\n",
            "/Users/silviaarellanogarcia/Documents/MSc MACHINE LEARNING/Advanced Machine Learning/Project/Node2vec/.venv/lib/python3.11/site-packages/sklearn/preprocessing/_label.py:900: UserWarning: unknown class(es) [0] will be ignored\n",
            "  warnings.warn(\n",
            "/Users/silviaarellanogarcia/Documents/MSc MACHINE LEARNING/Advanced Machine Learning/Project/Node2vec/.venv/lib/python3.11/site-packages/sklearn/preprocessing/_label.py:900: UserWarning: unknown class(es) [0] will be ignored\n",
            "  warnings.warn(\n",
            "/Users/silviaarellanogarcia/Documents/MSc MACHINE LEARNING/Advanced Machine Learning/Project/Node2vec/.venv/lib/python3.11/site-packages/sklearn/metrics/_classification.py:1760: UndefinedMetricWarning: F-score is ill-defined and being set to 0.0 in labels with no true nor predicted samples. Use `zero_division` parameter to control this behavior.\n",
            "  _warn_prf(average, \"true nor predicted\", \"F-score is\", len(true_sum))\n",
            "/Users/silviaarellanogarcia/Documents/MSc MACHINE LEARNING/Advanced Machine Learning/Project/Node2vec/.venv/lib/python3.11/site-packages/sklearn/preprocessing/_label.py:900: UserWarning: unknown class(es) [0] will be ignored\n",
            "  warnings.warn(\n",
            "/Users/silviaarellanogarcia/Documents/MSc MACHINE LEARNING/Advanced Machine Learning/Project/Node2vec/.venv/lib/python3.11/site-packages/sklearn/preprocessing/_label.py:900: UserWarning: unknown class(es) [0] will be ignored\n",
            "  warnings.warn(\n",
            "/Users/silviaarellanogarcia/Documents/MSc MACHINE LEARNING/Advanced Machine Learning/Project/Node2vec/.venv/lib/python3.11/site-packages/sklearn/metrics/_classification.py:1760: UndefinedMetricWarning: F-score is ill-defined and being set to 0.0 in labels with no true nor predicted samples. Use `zero_division` parameter to control this behavior.\n",
            "  _warn_prf(average, \"true nor predicted\", \"F-score is\", len(true_sum))\n",
            "/Users/silviaarellanogarcia/Documents/MSc MACHINE LEARNING/Advanced Machine Learning/Project/Node2vec/.venv/lib/python3.11/site-packages/sklearn/multiclass.py:84: UserWarning: Label not 37 is present in all training examples.\n",
            "  warnings.warn(\n",
            "/Users/silviaarellanogarcia/Documents/MSc MACHINE LEARNING/Advanced Machine Learning/Project/Node2vec/.venv/lib/python3.11/site-packages/sklearn/preprocessing/_label.py:900: UserWarning: unknown class(es) [0] will be ignored\n",
            "  warnings.warn(\n",
            "/Users/silviaarellanogarcia/Documents/MSc MACHINE LEARNING/Advanced Machine Learning/Project/Node2vec/.venv/lib/python3.11/site-packages/sklearn/preprocessing/_label.py:900: UserWarning: unknown class(es) [0] will be ignored\n",
            "  warnings.warn(\n",
            "/Users/silviaarellanogarcia/Documents/MSc MACHINE LEARNING/Advanced Machine Learning/Project/Node2vec/.venv/lib/python3.11/site-packages/sklearn/metrics/_classification.py:1760: UndefinedMetricWarning: F-score is ill-defined and being set to 0.0 in labels with no true nor predicted samples. Use `zero_division` parameter to control this behavior.\n",
            "  _warn_prf(average, \"true nor predicted\", \"F-score is\", len(true_sum))\n",
            "/Users/silviaarellanogarcia/Documents/MSc MACHINE LEARNING/Advanced Machine Learning/Project/Node2vec/.venv/lib/python3.11/site-packages/sklearn/multiclass.py:84: UserWarning: Label not 37 is present in all training examples.\n",
            "  warnings.warn(\n",
            "/Users/silviaarellanogarcia/Documents/MSc MACHINE LEARNING/Advanced Machine Learning/Project/Node2vec/.venv/lib/python3.11/site-packages/sklearn/preprocessing/_label.py:900: UserWarning: unknown class(es) [0] will be ignored\n",
            "  warnings.warn(\n",
            "/Users/silviaarellanogarcia/Documents/MSc MACHINE LEARNING/Advanced Machine Learning/Project/Node2vec/.venv/lib/python3.11/site-packages/sklearn/preprocessing/_label.py:900: UserWarning: unknown class(es) [0] will be ignored\n",
            "  warnings.warn(\n",
            "/Users/silviaarellanogarcia/Documents/MSc MACHINE LEARNING/Advanced Machine Learning/Project/Node2vec/.venv/lib/python3.11/site-packages/sklearn/metrics/_classification.py:1760: UndefinedMetricWarning: F-score is ill-defined and being set to 0.0 in labels with no true nor predicted samples. Use `zero_division` parameter to control this behavior.\n",
            "  _warn_prf(average, \"true nor predicted\", \"F-score is\", len(true_sum))\n",
            "/Users/silviaarellanogarcia/Documents/MSc MACHINE LEARNING/Advanced Machine Learning/Project/Node2vec/.venv/lib/python3.11/site-packages/sklearn/preprocessing/_label.py:900: UserWarning: unknown class(es) [0] will be ignored\n",
            "  warnings.warn(\n",
            "/Users/silviaarellanogarcia/Documents/MSc MACHINE LEARNING/Advanced Machine Learning/Project/Node2vec/.venv/lib/python3.11/site-packages/sklearn/preprocessing/_label.py:900: UserWarning: unknown class(es) [0] will be ignored\n",
            "  warnings.warn(\n",
            "/Users/silviaarellanogarcia/Documents/MSc MACHINE LEARNING/Advanced Machine Learning/Project/Node2vec/.venv/lib/python3.11/site-packages/sklearn/metrics/_classification.py:1760: UndefinedMetricWarning: F-score is ill-defined and being set to 0.0 in labels with no true nor predicted samples. Use `zero_division` parameter to control this behavior.\n",
            "  _warn_prf(average, \"true nor predicted\", \"F-score is\", len(true_sum))\n",
            "/Users/silviaarellanogarcia/Documents/MSc MACHINE LEARNING/Advanced Machine Learning/Project/Node2vec/.venv/lib/python3.11/site-packages/sklearn/multiclass.py:84: UserWarning: Label not 38 is present in all training examples.\n",
            "  warnings.warn(\n",
            "/Users/silviaarellanogarcia/Documents/MSc MACHINE LEARNING/Advanced Machine Learning/Project/Node2vec/.venv/lib/python3.11/site-packages/sklearn/preprocessing/_label.py:900: UserWarning: unknown class(es) [0] will be ignored\n",
            "  warnings.warn(\n",
            "/Users/silviaarellanogarcia/Documents/MSc MACHINE LEARNING/Advanced Machine Learning/Project/Node2vec/.venv/lib/python3.11/site-packages/sklearn/preprocessing/_label.py:900: UserWarning: unknown class(es) [0] will be ignored\n",
            "  warnings.warn(\n",
            "/Users/silviaarellanogarcia/Documents/MSc MACHINE LEARNING/Advanced Machine Learning/Project/Node2vec/.venv/lib/python3.11/site-packages/sklearn/metrics/_classification.py:1760: UndefinedMetricWarning: F-score is ill-defined and being set to 0.0 in labels with no true nor predicted samples. Use `zero_division` parameter to control this behavior.\n",
            "  _warn_prf(average, \"true nor predicted\", \"F-score is\", len(true_sum))\n",
            "/Users/silviaarellanogarcia/Documents/MSc MACHINE LEARNING/Advanced Machine Learning/Project/Node2vec/.venv/lib/python3.11/site-packages/sklearn/preprocessing/_label.py:900: UserWarning: unknown class(es) [0] will be ignored\n",
            "  warnings.warn(\n",
            "/Users/silviaarellanogarcia/Documents/MSc MACHINE LEARNING/Advanced Machine Learning/Project/Node2vec/.venv/lib/python3.11/site-packages/sklearn/preprocessing/_label.py:900: UserWarning: unknown class(es) [0] will be ignored\n",
            "  warnings.warn(\n",
            "/Users/silviaarellanogarcia/Documents/MSc MACHINE LEARNING/Advanced Machine Learning/Project/Node2vec/.venv/lib/python3.11/site-packages/sklearn/metrics/_classification.py:1760: UndefinedMetricWarning: F-score is ill-defined and being set to 0.0 in labels with no true nor predicted samples. Use `zero_division` parameter to control this behavior.\n",
            "  _warn_prf(average, \"true nor predicted\", \"F-score is\", len(true_sum))\n",
            "/Users/silviaarellanogarcia/Documents/MSc MACHINE LEARNING/Advanced Machine Learning/Project/Node2vec/.venv/lib/python3.11/site-packages/sklearn/multiclass.py:84: UserWarning: Label not 38 is present in all training examples.\n",
            "  warnings.warn(\n",
            "/Users/silviaarellanogarcia/Documents/MSc MACHINE LEARNING/Advanced Machine Learning/Project/Node2vec/.venv/lib/python3.11/site-packages/sklearn/preprocessing/_label.py:900: UserWarning: unknown class(es) [0] will be ignored\n",
            "  warnings.warn(\n",
            "/Users/silviaarellanogarcia/Documents/MSc MACHINE LEARNING/Advanced Machine Learning/Project/Node2vec/.venv/lib/python3.11/site-packages/sklearn/preprocessing/_label.py:900: UserWarning: unknown class(es) [0] will be ignored\n",
            "  warnings.warn(\n",
            "/Users/silviaarellanogarcia/Documents/MSc MACHINE LEARNING/Advanced Machine Learning/Project/Node2vec/.venv/lib/python3.11/site-packages/sklearn/metrics/_classification.py:1760: UndefinedMetricWarning: F-score is ill-defined and being set to 0.0 in labels with no true nor predicted samples. Use `zero_division` parameter to control this behavior.\n",
            "  _warn_prf(average, \"true nor predicted\", \"F-score is\", len(true_sum))\n",
            "/Users/silviaarellanogarcia/Documents/MSc MACHINE LEARNING/Advanced Machine Learning/Project/Node2vec/.venv/lib/python3.11/site-packages/sklearn/preprocessing/_label.py:900: UserWarning: unknown class(es) [0] will be ignored\n",
            "  warnings.warn(\n",
            "/Users/silviaarellanogarcia/Documents/MSc MACHINE LEARNING/Advanced Machine Learning/Project/Node2vec/.venv/lib/python3.11/site-packages/sklearn/preprocessing/_label.py:900: UserWarning: unknown class(es) [0] will be ignored\n",
            "  warnings.warn(\n",
            "/Users/silviaarellanogarcia/Documents/MSc MACHINE LEARNING/Advanced Machine Learning/Project/Node2vec/.venv/lib/python3.11/site-packages/sklearn/metrics/_classification.py:1760: UndefinedMetricWarning: F-score is ill-defined and being set to 0.0 in labels with no true nor predicted samples. Use `zero_division` parameter to control this behavior.\n",
            "  _warn_prf(average, \"true nor predicted\", \"F-score is\", len(true_sum))\n",
            "/Users/silviaarellanogarcia/Documents/MSc MACHINE LEARNING/Advanced Machine Learning/Project/Node2vec/.venv/lib/python3.11/site-packages/sklearn/preprocessing/_label.py:900: UserWarning: unknown class(es) [0] will be ignored\n",
            "  warnings.warn(\n",
            "/Users/silviaarellanogarcia/Documents/MSc MACHINE LEARNING/Advanced Machine Learning/Project/Node2vec/.venv/lib/python3.11/site-packages/sklearn/preprocessing/_label.py:900: UserWarning: unknown class(es) [0] will be ignored\n",
            "  warnings.warn(\n",
            "/Users/silviaarellanogarcia/Documents/MSc MACHINE LEARNING/Advanced Machine Learning/Project/Node2vec/.venv/lib/python3.11/site-packages/sklearn/metrics/_classification.py:1760: UndefinedMetricWarning: F-score is ill-defined and being set to 0.0 in labels with no true nor predicted samples. Use `zero_division` parameter to control this behavior.\n",
            "  _warn_prf(average, \"true nor predicted\", \"F-score is\", len(true_sum))\n",
            "/Users/silviaarellanogarcia/Documents/MSc MACHINE LEARNING/Advanced Machine Learning/Project/Node2vec/.venv/lib/python3.11/site-packages/sklearn/preprocessing/_label.py:900: UserWarning: unknown class(es) [0] will be ignored\n",
            "  warnings.warn(\n",
            "/Users/silviaarellanogarcia/Documents/MSc MACHINE LEARNING/Advanced Machine Learning/Project/Node2vec/.venv/lib/python3.11/site-packages/sklearn/preprocessing/_label.py:900: UserWarning: unknown class(es) [0] will be ignored\n",
            "  warnings.warn(\n",
            "/Users/silviaarellanogarcia/Documents/MSc MACHINE LEARNING/Advanced Machine Learning/Project/Node2vec/.venv/lib/python3.11/site-packages/sklearn/metrics/_classification.py:1760: UndefinedMetricWarning: F-score is ill-defined and being set to 0.0 in labels with no true nor predicted samples. Use `zero_division` parameter to control this behavior.\n",
            "  _warn_prf(average, \"true nor predicted\", \"F-score is\", len(true_sum))\n",
            "/Users/silviaarellanogarcia/Documents/MSc MACHINE LEARNING/Advanced Machine Learning/Project/Node2vec/.venv/lib/python3.11/site-packages/sklearn/preprocessing/_label.py:900: UserWarning: unknown class(es) [0] will be ignored\n",
            "  warnings.warn(\n",
            "/Users/silviaarellanogarcia/Documents/MSc MACHINE LEARNING/Advanced Machine Learning/Project/Node2vec/.venv/lib/python3.11/site-packages/sklearn/preprocessing/_label.py:900: UserWarning: unknown class(es) [0] will be ignored\n",
            "  warnings.warn(\n",
            "/Users/silviaarellanogarcia/Documents/MSc MACHINE LEARNING/Advanced Machine Learning/Project/Node2vec/.venv/lib/python3.11/site-packages/sklearn/metrics/_classification.py:1760: UndefinedMetricWarning: F-score is ill-defined and being set to 0.0 in labels with no true nor predicted samples. Use `zero_division` parameter to control this behavior.\n",
            "  _warn_prf(average, \"true nor predicted\", \"F-score is\", len(true_sum))\n",
            "/Users/silviaarellanogarcia/Documents/MSc MACHINE LEARNING/Advanced Machine Learning/Project/Node2vec/.venv/lib/python3.11/site-packages/sklearn/preprocessing/_label.py:900: UserWarning: unknown class(es) [0] will be ignored\n",
            "  warnings.warn(\n",
            "/Users/silviaarellanogarcia/Documents/MSc MACHINE LEARNING/Advanced Machine Learning/Project/Node2vec/.venv/lib/python3.11/site-packages/sklearn/preprocessing/_label.py:900: UserWarning: unknown class(es) [0] will be ignored\n",
            "  warnings.warn(\n",
            "/Users/silviaarellanogarcia/Documents/MSc MACHINE LEARNING/Advanced Machine Learning/Project/Node2vec/.venv/lib/python3.11/site-packages/sklearn/metrics/_classification.py:1760: UndefinedMetricWarning: F-score is ill-defined and being set to 0.0 in labels with no true nor predicted samples. Use `zero_division` parameter to control this behavior.\n",
            "  _warn_prf(average, \"true nor predicted\", \"F-score is\", len(true_sum))\n",
            "/Users/silviaarellanogarcia/Documents/MSc MACHINE LEARNING/Advanced Machine Learning/Project/Node2vec/.venv/lib/python3.11/site-packages/sklearn/preprocessing/_label.py:900: UserWarning: unknown class(es) [0] will be ignored\n",
            "  warnings.warn(\n",
            "/Users/silviaarellanogarcia/Documents/MSc MACHINE LEARNING/Advanced Machine Learning/Project/Node2vec/.venv/lib/python3.11/site-packages/sklearn/preprocessing/_label.py:900: UserWarning: unknown class(es) [0] will be ignored\n",
            "  warnings.warn(\n",
            "/Users/silviaarellanogarcia/Documents/MSc MACHINE LEARNING/Advanced Machine Learning/Project/Node2vec/.venv/lib/python3.11/site-packages/sklearn/metrics/_classification.py:1760: UndefinedMetricWarning: F-score is ill-defined and being set to 0.0 in labels with no true nor predicted samples. Use `zero_division` parameter to control this behavior.\n",
            "  _warn_prf(average, \"true nor predicted\", \"F-score is\", len(true_sum))\n",
            "/Users/silviaarellanogarcia/Documents/MSc MACHINE LEARNING/Advanced Machine Learning/Project/Node2vec/.venv/lib/python3.11/site-packages/sklearn/preprocessing/_label.py:900: UserWarning: unknown class(es) [0] will be ignored\n",
            "  warnings.warn(\n",
            "/Users/silviaarellanogarcia/Documents/MSc MACHINE LEARNING/Advanced Machine Learning/Project/Node2vec/.venv/lib/python3.11/site-packages/sklearn/preprocessing/_label.py:900: UserWarning: unknown class(es) [0] will be ignored\n",
            "  warnings.warn(\n",
            "/Users/silviaarellanogarcia/Documents/MSc MACHINE LEARNING/Advanced Machine Learning/Project/Node2vec/.venv/lib/python3.11/site-packages/sklearn/metrics/_classification.py:1760: UndefinedMetricWarning: F-score is ill-defined and being set to 0.0 in labels with no true nor predicted samples. Use `zero_division` parameter to control this behavior.\n",
            "  _warn_prf(average, \"true nor predicted\", \"F-score is\", len(true_sum))\n",
            "/Users/silviaarellanogarcia/Documents/MSc MACHINE LEARNING/Advanced Machine Learning/Project/Node2vec/.venv/lib/python3.11/site-packages/sklearn/preprocessing/_label.py:900: UserWarning: unknown class(es) [0] will be ignored\n",
            "  warnings.warn(\n",
            "/Users/silviaarellanogarcia/Documents/MSc MACHINE LEARNING/Advanced Machine Learning/Project/Node2vec/.venv/lib/python3.11/site-packages/sklearn/preprocessing/_label.py:900: UserWarning: unknown class(es) [0] will be ignored\n",
            "  warnings.warn(\n",
            "/Users/silviaarellanogarcia/Documents/MSc MACHINE LEARNING/Advanced Machine Learning/Project/Node2vec/.venv/lib/python3.11/site-packages/sklearn/metrics/_classification.py:1760: UndefinedMetricWarning: F-score is ill-defined and being set to 0.0 in labels with no true nor predicted samples. Use `zero_division` parameter to control this behavior.\n",
            "  _warn_prf(average, \"true nor predicted\", \"F-score is\", len(true_sum))\n",
            "/Users/silviaarellanogarcia/Documents/MSc MACHINE LEARNING/Advanced Machine Learning/Project/Node2vec/.venv/lib/python3.11/site-packages/sklearn/preprocessing/_label.py:900: UserWarning: unknown class(es) [0] will be ignored\n",
            "  warnings.warn(\n",
            "/Users/silviaarellanogarcia/Documents/MSc MACHINE LEARNING/Advanced Machine Learning/Project/Node2vec/.venv/lib/python3.11/site-packages/sklearn/preprocessing/_label.py:900: UserWarning: unknown class(es) [0] will be ignored\n",
            "  warnings.warn(\n",
            "/Users/silviaarellanogarcia/Documents/MSc MACHINE LEARNING/Advanced Machine Learning/Project/Node2vec/.venv/lib/python3.11/site-packages/sklearn/metrics/_classification.py:1760: UndefinedMetricWarning: F-score is ill-defined and being set to 0.0 in labels with no true nor predicted samples. Use `zero_division` parameter to control this behavior.\n",
            "  _warn_prf(average, \"true nor predicted\", \"F-score is\", len(true_sum))\n",
            "/Users/silviaarellanogarcia/Documents/MSc MACHINE LEARNING/Advanced Machine Learning/Project/Node2vec/.venv/lib/python3.11/site-packages/sklearn/preprocessing/_label.py:900: UserWarning: unknown class(es) [0] will be ignored\n",
            "  warnings.warn(\n",
            "/Users/silviaarellanogarcia/Documents/MSc MACHINE LEARNING/Advanced Machine Learning/Project/Node2vec/.venv/lib/python3.11/site-packages/sklearn/preprocessing/_label.py:900: UserWarning: unknown class(es) [0] will be ignored\n",
            "  warnings.warn(\n",
            "/Users/silviaarellanogarcia/Documents/MSc MACHINE LEARNING/Advanced Machine Learning/Project/Node2vec/.venv/lib/python3.11/site-packages/sklearn/metrics/_classification.py:1760: UndefinedMetricWarning: F-score is ill-defined and being set to 0.0 in labels with no true nor predicted samples. Use `zero_division` parameter to control this behavior.\n",
            "  _warn_prf(average, \"true nor predicted\", \"F-score is\", len(true_sum))\n",
            "/Users/silviaarellanogarcia/Documents/MSc MACHINE LEARNING/Advanced Machine Learning/Project/Node2vec/.venv/lib/python3.11/site-packages/sklearn/preprocessing/_label.py:900: UserWarning: unknown class(es) [0] will be ignored\n",
            "  warnings.warn(\n",
            "/Users/silviaarellanogarcia/Documents/MSc MACHINE LEARNING/Advanced Machine Learning/Project/Node2vec/.venv/lib/python3.11/site-packages/sklearn/preprocessing/_label.py:900: UserWarning: unknown class(es) [0] will be ignored\n",
            "  warnings.warn(\n",
            "/Users/silviaarellanogarcia/Documents/MSc MACHINE LEARNING/Advanced Machine Learning/Project/Node2vec/.venv/lib/python3.11/site-packages/sklearn/metrics/_classification.py:1760: UndefinedMetricWarning: F-score is ill-defined and being set to 0.0 in labels with no true nor predicted samples. Use `zero_division` parameter to control this behavior.\n",
            "  _warn_prf(average, \"true nor predicted\", \"F-score is\", len(true_sum))\n",
            "/Users/silviaarellanogarcia/Documents/MSc MACHINE LEARNING/Advanced Machine Learning/Project/Node2vec/.venv/lib/python3.11/site-packages/sklearn/preprocessing/_label.py:900: UserWarning: unknown class(es) [0] will be ignored\n",
            "  warnings.warn(\n",
            "/Users/silviaarellanogarcia/Documents/MSc MACHINE LEARNING/Advanced Machine Learning/Project/Node2vec/.venv/lib/python3.11/site-packages/sklearn/preprocessing/_label.py:900: UserWarning: unknown class(es) [0] will be ignored\n",
            "  warnings.warn(\n",
            "/Users/silviaarellanogarcia/Documents/MSc MACHINE LEARNING/Advanced Machine Learning/Project/Node2vec/.venv/lib/python3.11/site-packages/sklearn/metrics/_classification.py:1760: UndefinedMetricWarning: F-score is ill-defined and being set to 0.0 in labels with no true nor predicted samples. Use `zero_division` parameter to control this behavior.\n",
            "  _warn_prf(average, \"true nor predicted\", \"F-score is\", len(true_sum))\n",
            "/Users/silviaarellanogarcia/Documents/MSc MACHINE LEARNING/Advanced Machine Learning/Project/Node2vec/.venv/lib/python3.11/site-packages/sklearn/preprocessing/_label.py:900: UserWarning: unknown class(es) [0] will be ignored\n",
            "  warnings.warn(\n",
            "/Users/silviaarellanogarcia/Documents/MSc MACHINE LEARNING/Advanced Machine Learning/Project/Node2vec/.venv/lib/python3.11/site-packages/sklearn/preprocessing/_label.py:900: UserWarning: unknown class(es) [0] will be ignored\n",
            "  warnings.warn(\n",
            "/Users/silviaarellanogarcia/Documents/MSc MACHINE LEARNING/Advanced Machine Learning/Project/Node2vec/.venv/lib/python3.11/site-packages/sklearn/metrics/_classification.py:1760: UndefinedMetricWarning: F-score is ill-defined and being set to 0.0 in labels with no true nor predicted samples. Use `zero_division` parameter to control this behavior.\n",
            "  _warn_prf(average, \"true nor predicted\", \"F-score is\", len(true_sum))\n",
            "/Users/silviaarellanogarcia/Documents/MSc MACHINE LEARNING/Advanced Machine Learning/Project/Node2vec/.venv/lib/python3.11/site-packages/sklearn/preprocessing/_label.py:900: UserWarning: unknown class(es) [0] will be ignored\n",
            "  warnings.warn(\n",
            "/Users/silviaarellanogarcia/Documents/MSc MACHINE LEARNING/Advanced Machine Learning/Project/Node2vec/.venv/lib/python3.11/site-packages/sklearn/preprocessing/_label.py:900: UserWarning: unknown class(es) [0] will be ignored\n",
            "  warnings.warn(\n",
            "/Users/silviaarellanogarcia/Documents/MSc MACHINE LEARNING/Advanced Machine Learning/Project/Node2vec/.venv/lib/python3.11/site-packages/sklearn/metrics/_classification.py:1760: UndefinedMetricWarning: F-score is ill-defined and being set to 0.0 in labels with no true nor predicted samples. Use `zero_division` parameter to control this behavior.\n",
            "  _warn_prf(average, \"true nor predicted\", \"F-score is\", len(true_sum))\n",
            "/Users/silviaarellanogarcia/Documents/MSc MACHINE LEARNING/Advanced Machine Learning/Project/Node2vec/.venv/lib/python3.11/site-packages/sklearn/preprocessing/_label.py:900: UserWarning: unknown class(es) [0] will be ignored\n",
            "  warnings.warn(\n",
            "/Users/silviaarellanogarcia/Documents/MSc MACHINE LEARNING/Advanced Machine Learning/Project/Node2vec/.venv/lib/python3.11/site-packages/sklearn/preprocessing/_label.py:900: UserWarning: unknown class(es) [0] will be ignored\n",
            "  warnings.warn(\n",
            "/Users/silviaarellanogarcia/Documents/MSc MACHINE LEARNING/Advanced Machine Learning/Project/Node2vec/.venv/lib/python3.11/site-packages/sklearn/metrics/_classification.py:1760: UndefinedMetricWarning: F-score is ill-defined and being set to 0.0 in labels with no true nor predicted samples. Use `zero_division` parameter to control this behavior.\n",
            "  _warn_prf(average, \"true nor predicted\", \"F-score is\", len(true_sum))\n",
            "/Users/silviaarellanogarcia/Documents/MSc MACHINE LEARNING/Advanced Machine Learning/Project/Node2vec/.venv/lib/python3.11/site-packages/sklearn/preprocessing/_label.py:900: UserWarning: unknown class(es) [0] will be ignored\n",
            "  warnings.warn(\n",
            "/Users/silviaarellanogarcia/Documents/MSc MACHINE LEARNING/Advanced Machine Learning/Project/Node2vec/.venv/lib/python3.11/site-packages/sklearn/preprocessing/_label.py:900: UserWarning: unknown class(es) [0] will be ignored\n",
            "  warnings.warn(\n",
            "/Users/silviaarellanogarcia/Documents/MSc MACHINE LEARNING/Advanced Machine Learning/Project/Node2vec/.venv/lib/python3.11/site-packages/sklearn/metrics/_classification.py:1760: UndefinedMetricWarning: F-score is ill-defined and being set to 0.0 in labels with no true nor predicted samples. Use `zero_division` parameter to control this behavior.\n",
            "  _warn_prf(average, \"true nor predicted\", \"F-score is\", len(true_sum))\n",
            "/Users/silviaarellanogarcia/Documents/MSc MACHINE LEARNING/Advanced Machine Learning/Project/Node2vec/.venv/lib/python3.11/site-packages/sklearn/preprocessing/_label.py:900: UserWarning: unknown class(es) [0] will be ignored\n",
            "  warnings.warn(\n",
            "/Users/silviaarellanogarcia/Documents/MSc MACHINE LEARNING/Advanced Machine Learning/Project/Node2vec/.venv/lib/python3.11/site-packages/sklearn/preprocessing/_label.py:900: UserWarning: unknown class(es) [0] will be ignored\n",
            "  warnings.warn(\n",
            "/Users/silviaarellanogarcia/Documents/MSc MACHINE LEARNING/Advanced Machine Learning/Project/Node2vec/.venv/lib/python3.11/site-packages/sklearn/metrics/_classification.py:1760: UndefinedMetricWarning: F-score is ill-defined and being set to 0.0 in labels with no true nor predicted samples. Use `zero_division` parameter to control this behavior.\n",
            "  _warn_prf(average, \"true nor predicted\", \"F-score is\", len(true_sum))\n",
            "/Users/silviaarellanogarcia/Documents/MSc MACHINE LEARNING/Advanced Machine Learning/Project/Node2vec/.venv/lib/python3.11/site-packages/sklearn/preprocessing/_label.py:900: UserWarning: unknown class(es) [0] will be ignored\n",
            "  warnings.warn(\n",
            "/Users/silviaarellanogarcia/Documents/MSc MACHINE LEARNING/Advanced Machine Learning/Project/Node2vec/.venv/lib/python3.11/site-packages/sklearn/preprocessing/_label.py:900: UserWarning: unknown class(es) [0] will be ignored\n",
            "  warnings.warn(\n",
            "/Users/silviaarellanogarcia/Documents/MSc MACHINE LEARNING/Advanced Machine Learning/Project/Node2vec/.venv/lib/python3.11/site-packages/sklearn/metrics/_classification.py:1760: UndefinedMetricWarning: F-score is ill-defined and being set to 0.0 in labels with no true nor predicted samples. Use `zero_division` parameter to control this behavior.\n",
            "  _warn_prf(average, \"true nor predicted\", \"F-score is\", len(true_sum))\n",
            "/Users/silviaarellanogarcia/Documents/MSc MACHINE LEARNING/Advanced Machine Learning/Project/Node2vec/.venv/lib/python3.11/site-packages/sklearn/preprocessing/_label.py:900: UserWarning: unknown class(es) [0] will be ignored\n",
            "  warnings.warn(\n",
            "/Users/silviaarellanogarcia/Documents/MSc MACHINE LEARNING/Advanced Machine Learning/Project/Node2vec/.venv/lib/python3.11/site-packages/sklearn/preprocessing/_label.py:900: UserWarning: unknown class(es) [0] will be ignored\n",
            "  warnings.warn(\n",
            "/Users/silviaarellanogarcia/Documents/MSc MACHINE LEARNING/Advanced Machine Learning/Project/Node2vec/.venv/lib/python3.11/site-packages/sklearn/metrics/_classification.py:1760: UndefinedMetricWarning: F-score is ill-defined and being set to 0.0 in labels with no true nor predicted samples. Use `zero_division` parameter to control this behavior.\n",
            "  _warn_prf(average, \"true nor predicted\", \"F-score is\", len(true_sum))\n",
            "/Users/silviaarellanogarcia/Documents/MSc MACHINE LEARNING/Advanced Machine Learning/Project/Node2vec/.venv/lib/python3.11/site-packages/sklearn/preprocessing/_label.py:900: UserWarning: unknown class(es) [0] will be ignored\n",
            "  warnings.warn(\n",
            "/Users/silviaarellanogarcia/Documents/MSc MACHINE LEARNING/Advanced Machine Learning/Project/Node2vec/.venv/lib/python3.11/site-packages/sklearn/preprocessing/_label.py:900: UserWarning: unknown class(es) [0] will be ignored\n",
            "  warnings.warn(\n",
            "/Users/silviaarellanogarcia/Documents/MSc MACHINE LEARNING/Advanced Machine Learning/Project/Node2vec/.venv/lib/python3.11/site-packages/sklearn/metrics/_classification.py:1760: UndefinedMetricWarning: F-score is ill-defined and being set to 0.0 in labels with no true nor predicted samples. Use `zero_division` parameter to control this behavior.\n",
            "  _warn_prf(average, \"true nor predicted\", \"F-score is\", len(true_sum))\n"
          ]
        }
      ],
      "source": [
        "labels_blog = get_array_labels(G)\n",
        "\n",
        "adj_G = nx.adjacency_matrix(G, nodelist=None, dtype=None, weight='weight') # Adjacency matrix: Square matrix of N x N size used to represent the connections between the edges of a graph.\n",
        "adj_graph = adj_dictionary(adj_G)\n",
        "\n",
        "num_labels = len(groups_id)\n",
        "#num_labels = dataset.num_classes ### FOR PYTORCH_GEOMETRIC DATASETS\n",
        "mlb = MultiLabelBinarizer(classes=range(1, len(groups_id) + 1))\n",
        "#mlb = MultiLabelBinarizer(classes=range(num_labels))  ### FOR PYTORCH_GEOMETRIC DATASETS THAT START WITH 0\n",
        "\n",
        "labels_bin = mlb.fit_transform(labels_blog)\n",
        "\n",
        "### WHEN USING A LOADED EMBEDDING, ERASE THE .wv\n",
        "try:\n",
        "    features_matrix = np.asarray([phi.wv[str(node+1)] for node in range(len(G))])\n",
        "except:\n",
        "    features_matrix = np.asarray([phi.wv[str(node)] for node in range(len(G))])\n",
        "\n",
        "shuffles = []\n",
        "for x in range(10):\n",
        "    shuffles.append(skshuffle(features_matrix, labels_bin)) # The sklearn shuffle shuffles arrays or sparse matrices in a consistent way.\n",
        "\n",
        "all_results = defaultdict(list)\n",
        "\n",
        "training_percents = [0.1, 0.5, 0.9]\n",
        "\n",
        "for train_percent in training_percents:\n",
        "    for shuf in shuffles:\n",
        "        X, y = shuf # X corresponds to the phi_vectors and y to the labels.\n",
        "\n",
        "        training_size = int(train_percent * len(X))\n",
        "\n",
        "        X_train = X[:training_size, :]\n",
        "        y_train_ = y[:training_size]\n",
        "\n",
        "        y_train = [[] for x in range(len(y_train_))]\n",
        "\n",
        "        y_train_sparse = coo_matrix(y_train_)\n",
        "        cy =  y_train_sparse.tocoo()\n",
        "\n",
        "        for i, j in zip(cy.row, cy.col):\n",
        "            y_train[i].append(j)\n",
        "\n",
        "        assert sum(len(l) for l in y_train) == np.count_nonzero(y_train_)\n",
        "\n",
        "        X_test = X[training_size:, :]\n",
        "        y_test_ = y[training_size:]\n",
        "\n",
        "        y_test = [[] for _ in range(len(y_test_))]\n",
        "\n",
        "        y_test_sparse = coo_matrix(y_test_)\n",
        "        cy =  y_test_sparse.tocoo()\n",
        "        for i, j in zip(cy.row, cy.col):\n",
        "            y_test[i].append(j)\n",
        "\n",
        "        clf = TopKRanker(LogisticRegression()) # creates an instance of TopKRanker with a LogisticRegression model as the base classifier.\n",
        "        clf.fit(X_train, y_train_)\n",
        "\n",
        "        # find out how many labels should be predicted\n",
        "        top_k_list = [len(l) for l in y_test]\n",
        "        preds = clf.predict(X_test, top_k_list)\n",
        "\n",
        "        results = {}\n",
        "        averages = [\"micro\", \"macro\"]\n",
        "        for average in averages:\n",
        "            results[average] = f1_score(mlb.fit_transform(y_test), mlb.fit_transform(preds), average=average)\n",
        "\n",
        "        all_results[train_percent].append(results)\n"
      ]
    },
    {
      "cell_type": "code",
      "execution_count": 44,
      "metadata": {
        "colab": {
          "base_uri": "https://localhost:8080/"
        },
        "id": "HxDOO7TtTJdG",
        "outputId": "84422439-5447-46f7-d864-c88620907629"
      },
      "outputs": [
        {
          "name": "stdout",
          "output_type": "stream",
          "text": [
            "Results, using embeddings of dimensionality 128\n",
            "-------------------\n",
            "Train percent: 0.1\n",
            "Train percent: 0.5\n",
            "Train percent: 0.9\n",
            "Shuffle #1:    {'micro': 0.39767680218653906, 'macro': 0.2435402820456096}\n",
            "Shuffle #2:    {'micro': 0.3778990450204638, 'macro': 0.2297999862887019}\n",
            "Shuffle #3:    {'micro': 0.4099895941727368, 'macro': 0.26055351855327674}\n",
            "Shuffle #4:    {'micro': 0.40161453077699294, 'macro': 0.2756815577505518}\n",
            "Shuffle #5:    {'micro': 0.4063380281690141, 'macro': 0.27646647911798367}\n",
            "Shuffle #6:    {'micro': 0.40168835736897646, 'macro': 0.2530218639191589}\n",
            "Shuffle #7:    {'micro': 0.4089793055068397, 'macro': 0.28383539755641424}\n",
            "Shuffle #8:    {'micro': 0.39667705088265837, 'macro': 0.24010178394756224}\n",
            "Shuffle #9:    {'micro': 0.40618411806043564, 'macro': 0.25485157220420146}\n",
            "Shuffle #10:    {'micro': 0.391169368747844, 'macro': 0.2518558357289587}\n",
            "Average score: {'micro': 0.3998216200892501, 'macro': 0.2569708277112419}\n",
            "-------------------\n"
          ]
        }
      ],
      "source": [
        "print ('Results, using embeddings of dimensionality', X.shape[1])\n",
        "print ('-------------------')\n",
        "for train_percent in sorted(all_results.keys()):\n",
        "    print ('Train percent:', train_percent)\n",
        "for index, result in enumerate(all_results[train_percent]):\n",
        "    print ('Shuffle #%d:   ' % (index + 1), result)\n",
        "avg_score = defaultdict(float)\n",
        "for score_dict in all_results[train_percent]:\n",
        "    for metric, score in score_dict.items():\n",
        "        avg_score[metric] += score\n",
        "for metric in avg_score:\n",
        "    avg_score[metric] /= len(all_results[train_percent])\n",
        "print ('Average score:', dict(avg_score))\n",
        "print ('-------------------')"
      ]
    }
  ],
  "metadata": {
    "colab": {
      "provenance": []
    },
    "kernelspec": {
      "display_name": "Python 3",
      "name": "python3"
    },
    "language_info": {
      "codemirror_mode": {
        "name": "ipython",
        "version": 3
      },
      "file_extension": ".py",
      "mimetype": "text/x-python",
      "name": "python",
      "nbconvert_exporter": "python",
      "pygments_lexer": "ipython3",
      "version": "3.11.2"
    }
  },
  "nbformat": 4,
  "nbformat_minor": 0
}
